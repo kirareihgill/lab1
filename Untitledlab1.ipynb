{
  "cells": [
    {
      "cell_type": "markdown",
      "metadata": {
        "id": "view-in-github",
        "colab_type": "text"
      },
      "source": [
        "<a href=\"https://colab.research.google.com/github/kirareihgill/lab1/blob/main/Untitledlab1.ipynb\" target=\"_parent\"><img src=\"https://colab.research.google.com/assets/colab-badge.svg\" alt=\"Open In Colab\"/></a>"
      ]
    },
    {
      "cell_type": "code",
      "execution_count": null,
      "id": "6a813edf-10ba-49b1-98ed-83e4804caa83",
      "metadata": {
        "id": "6a813edf-10ba-49b1-98ed-83e4804caa83"
      },
      "outputs": [],
      "source": [
        "import pandas as pd\n",
        "import matplotlib.pyplot as plt\n",
        "import seaborn as sns\n",
        "import scipy"
      ]
    },
    {
      "cell_type": "code",
      "source": [
        "from google.colab import drive\n",
        "drive.mount('/content/drive')"
      ],
      "metadata": {
        "colab": {
          "base_uri": "https://localhost:8080/"
        },
        "id": "1f4uKVbnunqv",
        "outputId": "6fa9262e-763b-48ad-c890-a095046b55bd"
      },
      "id": "1f4uKVbnunqv",
      "execution_count": null,
      "outputs": [
        {
          "output_type": "stream",
          "name": "stdout",
          "text": [
            "Drive already mounted at /content/drive; to attempt to forcibly remount, call drive.mount(\"/content/drive\", force_remount=True).\n"
          ]
        }
      ]
    },
    {
      "cell_type": "markdown",
      "id": "faf84f7c-9044-4eda-b143-1ede4fd93836",
      "metadata": {
        "id": "faf84f7c-9044-4eda-b143-1ede4fd93836"
      },
      "source": [
        "# 1 Задание"
      ]
    },
    {
      "cell_type": "code",
      "execution_count": 47,
      "id": "51503431-8a8b-4b27-9b84-f57aa65f21f4",
      "metadata": {
        "id": "51503431-8a8b-4b27-9b84-f57aa65f21f4",
        "colab": {
          "base_uri": "https://localhost:8080/",
          "height": 210
        },
        "outputId": "f27ca2c3-99b5-425d-8e67-6e3723c42837"
      },
      "outputs": [
        {
          "output_type": "execute_result",
          "data": {
            "text/plain": [
              "0      Premium\n",
              "1     Delivery\n",
              "6      Comfort\n",
              "11     Economy\n",
              "Name: offer_class_group, dtype: object"
            ],
            "text/html": [
              "<div>\n",
              "<style scoped>\n",
              "    .dataframe tbody tr th:only-of-type {\n",
              "        vertical-align: middle;\n",
              "    }\n",
              "\n",
              "    .dataframe tbody tr th {\n",
              "        vertical-align: top;\n",
              "    }\n",
              "\n",
              "    .dataframe thead th {\n",
              "        text-align: right;\n",
              "    }\n",
              "</style>\n",
              "<table border=\"1\" class=\"dataframe\">\n",
              "  <thead>\n",
              "    <tr style=\"text-align: right;\">\n",
              "      <th></th>\n",
              "      <th>offer_class_group</th>\n",
              "    </tr>\n",
              "  </thead>\n",
              "  <tbody>\n",
              "    <tr>\n",
              "      <th>0</th>\n",
              "      <td>Premium</td>\n",
              "    </tr>\n",
              "    <tr>\n",
              "      <th>1</th>\n",
              "      <td>Delivery</td>\n",
              "    </tr>\n",
              "    <tr>\n",
              "      <th>6</th>\n",
              "      <td>Comfort</td>\n",
              "    </tr>\n",
              "    <tr>\n",
              "      <th>11</th>\n",
              "      <td>Economy</td>\n",
              "    </tr>\n",
              "  </tbody>\n",
              "</table>\n",
              "</div><br><label><b>dtype:</b> object</label>"
            ]
          },
          "metadata": {},
          "execution_count": 47
        }
      ],
      "source": [
        "df = pd.read_csv('drive/MyDrive/lab/dip_hw_x_taxi.csv', sep=',')\n",
        "df['offer_class_group'].drop_duplicates()"
      ]
    },
    {
      "cell_type": "markdown",
      "id": "db5bd4cb-1915-4b61-88e3-b31dd6d2ed79",
      "metadata": {
        "id": "db5bd4cb-1915-4b61-88e3-b31dd6d2ed79"
      },
      "source": [
        "# 2 Задание"
      ]
    },
    {
      "cell_type": "code",
      "execution_count": null,
      "id": "c31a5c97-86e6-47a6-9123-02d1298f3621",
      "metadata": {
        "id": "c31a5c97-86e6-47a6-9123-02d1298f3621"
      },
      "outputs": [],
      "source": [
        "print(\"Основные описательные статистики:\")\n",
        "df.describe()"
      ]
    },
    {
      "cell_type": "markdown",
      "id": "4cd60fc0-feca-4555-9ad0-c266953c1198",
      "metadata": {
        "id": "4cd60fc0-feca-4555-9ad0-c266953c1198"
      },
      "source": [
        "# 3 Задание"
      ]
    },
    {
      "cell_type": "code",
      "execution_count": null,
      "id": "04a85751-e8f7-404d-a812-04268165436f",
      "metadata": {
        "id": "04a85751-e8f7-404d-a812-04268165436f"
      },
      "outputs": [],
      "source": [
        "class_counts = df['offer_class_group'].value_counts()\n",
        "print(\"\\nКоличество поездок по классам такси:\")\n",
        "class_counts"
      ]
    },
    {
      "cell_type": "markdown",
      "id": "1f309b29-caf9-47af-9746-68a5577cf98b",
      "metadata": {
        "id": "1f309b29-caf9-47af-9746-68a5577cf98b"
      },
      "source": [
        "# 4 Задание"
      ]
    },
    {
      "cell_type": "code",
      "execution_count": null,
      "id": "e2637f28-aea4-428a-a012-cb916246b16a",
      "metadata": {
        "id": "e2637f28-aea4-428a-a012-cb916246b16a"
      },
      "outputs": [],
      "source": [
        "sns.set_style(\"whitegrid\")\n",
        "\n",
        "plt.figure(figsize=(10, 6))\n",
        "sns.histplot(data=df, x=\"distance_km\", bins=30, kde=True)\n",
        "plt.title(\"Распределение дистанций поездок\", fontsize=14)\n",
        "plt.xlabel(\"Дистанция (км)\", fontsize=12)\n",
        "plt.ylabel(\"Количество поездок\", fontsize=12)\n",
        "plt.show()"
      ]
    },
    {
      "cell_type": "markdown",
      "id": "679bce33-94e1-4df1-ae52-840d405ef1f4",
      "metadata": {
        "id": "679bce33-94e1-4df1-ae52-840d405ef1f4"
      },
      "source": [
        "# 5 Задание"
      ]
    },
    {
      "cell_type": "code",
      "execution_count": null,
      "id": "1d633a52-a4af-4203-b368-40d112415fad",
      "metadata": {
        "id": "1d633a52-a4af-4203-b368-40d112415fad"
      },
      "outputs": [],
      "source": [
        "economy = df[df['offer_class_group'] == 'Economy']['distance_km']\n",
        "comfort = df[df['offer_class_group'] == 'Comfort']['distance_km']\n",
        "\n",
        "plt.figure(figsize=(12, 6))\n",
        "sns.histplot(economy, bins=30, kde=True, color='blue', label='Эконом')\n",
        "sns.histplot(comfort, bins=30, kde=True, color='orange', label='Комфорт')\n",
        "plt.title(\"Распределение дистанций по классам такси\")\n",
        "plt.xlabel(\"Дистанция (км)\")\n",
        "plt.ylabel(\"Частота\")\n",
        "plt.legend()\n",
        "plt.show()\n",
        "\n",
        "print(\"Эконом-класс:\")\n",
        "print(f\"- Скошенность: {economy.skew():.2f} (правая/левая)\")\n",
        "print(f\"- Эксцесс: {economy.kurtosis():.2f} (тяжелые/легкие хвосты)\")\n",
        "\n",
        "print(\"\\nКомфорт-класс:\")\n",
        "print(f\"- Скошенность: {comfort.skew():.2f}\")\n",
        "print(f\"- Эксцесс: {comfort.kurtosis():.2f}\")"
      ]
    },
    {
      "cell_type": "markdown",
      "id": "00729236-b517-4da1-9728-9eef1b271920",
      "metadata": {
        "jp-MarkdownHeadingCollapsed": true,
        "id": "00729236-b517-4da1-9728-9eef1b271920"
      },
      "source": [
        "### Вывод:\n",
        "\n",
        "1. Эконом\n",
        "Скошенность = 0.70 (> 0) → правосторонняя асимметрия:\n",
        "\n",
        "Большинство поездок короткие, но есть редкие длинные (хвост справа).\n",
        "\n",
        "Типично для городских поездок: много коротких заказов (до 5–10 км), немного дальних.\n",
        "\n",
        "Эксцесс = 0.18 (> 0) → тяжелые хвосты:\n",
        "\n",
        "Длинные поездки встречаются чаще, чем в нормальном распределении.\n",
        "\n",
        "2. Комфорт\n",
        "Скошенность = 0.48 (> 0) → тоже правосторонняя асимметрия, но менее выраженная:\n",
        "\n",
        "Длинные поездки встречаются чаще, чем в Эконом.\n",
        "\n",
        "Эксцесс = -0.28 (< 0) → более легкие хвосты:\n",
        "\n",
        "Меньше экстремально длинных поездок по сравнению с Эконом."
      ]
    },
    {
      "cell_type": "markdown",
      "id": "383ce92b-4887-4bc7-8728-985e7c3aa7b7",
      "metadata": {
        "id": "383ce92b-4887-4bc7-8728-985e7c3aa7b7"
      },
      "source": [
        "# 6 Задание"
      ]
    },
    {
      "cell_type": "code",
      "execution_count": null,
      "id": "69c45a09-74f1-4e50-8f31-5de2adbd23db",
      "metadata": {
        "scrolled": true,
        "id": "69c45a09-74f1-4e50-8f31-5de2adbd23db"
      },
      "outputs": [],
      "source": [
        "plt.figure(figsize=(10, 6))\n",
        "sns.kdeplot(economy, color='blue', label='Эконом', fill=True)\n",
        "sns.kdeplot(comfort, color='orange', label='Комфорт', fill=True)\n",
        "plt.title(\"Ядерная оценка плотности (KDE) для дистанций\")\n",
        "plt.xlabel(\"Дистанция (км)\")\n",
        "plt.ylabel(\"Плотность\")\n",
        "plt.legend()\n",
        "plt.show()"
      ]
    },
    {
      "cell_type": "markdown",
      "id": "cb6b27ee-aae5-4309-bdcf-23cf1fda7954",
      "metadata": {
        "id": "cb6b27ee-aae5-4309-bdcf-23cf1fda7954"
      },
      "source": [
        "### Анализ:\n",
        "\n",
        "Видно, что Comfort чаще используется для более длинных поездок, чем Economy.\n",
        "\n",
        "Есть зона пересечения (~5-15 км), где оба класса востребованы."
      ]
    },
    {
      "cell_type": "markdown",
      "id": "f6839998-6036-49a9-b41b-63d923b049b3",
      "metadata": {
        "id": "f6839998-6036-49a9-b41b-63d923b049b3"
      },
      "source": [
        "# 7 Задание"
      ]
    },
    {
      "cell_type": "code",
      "execution_count": null,
      "id": "057a4969-6d3d-4cbe-a49a-2e7d5c1ba3e4",
      "metadata": {
        "scrolled": true,
        "id": "057a4969-6d3d-4cbe-a49a-2e7d5c1ba3e4"
      },
      "outputs": [],
      "source": [
        "from scipy.stats import ttest_ind\n",
        "\n",
        "# Проверка на нормальность (необязательно, но полезно)\n",
        "# Если p-value < 0.05, распределение не нормальное (может потребоваться непараметрический тест)\n",
        "\n",
        "# T-тест для независимых выборок\n",
        "t_stat, p_value = ttest_ind(economy, comfort, equal_var=False)\n",
        "print(f\"t-статистика: {t_stat:.2f}, p-value: {p_value:.4f}\")\n",
        "\n",
        "# Интерпретация\n",
        "alpha = 0.05\n",
        "if p_value < alpha:\n",
        "    print(\"Отвергаем H0: дистанции в Comfort и Economy **различаются** (p < 0.05)\")\n",
        "else:\n",
        "    print(\"Не отвергаем H0: различий нет (p >= 0.05)\")"
      ]
    },
    {
      "cell_type": "markdown",
      "id": "cfe8bd3b-feb5-4ef4-8dd4-8c048b073420",
      "metadata": {
        "id": "cfe8bd3b-feb5-4ef4-8dd4-8c048b073420"
      },
      "source": [
        "### Результат:\n",
        "\n",
        "Если p-value < 0.05, гипотеза H1 подтверждается: средние дистанции в Comfort и Economy различаются.\n",
        "\n",
        "Ожидаемо, Comfort будет иметь большую среднюю дистанцию."
      ]
    },
    {
      "cell_type": "markdown",
      "id": "cb48ae51-7636-44f3-a7bf-d0f2d4e693b5",
      "metadata": {
        "id": "cb48ae51-7636-44f3-a7bf-d0f2d4e693b5"
      },
      "source": [
        "# 8 Задание"
      ]
    },
    {
      "cell_type": "markdown",
      "id": "8a1f315d-8141-477d-b7ba-eb6864d6033c",
      "metadata": {
        "id": "8a1f315d-8141-477d-b7ba-eb6864d6033c"
      },
      "source": [
        "### Проведённый t-тест показал:\n",
        "\n",
        "p-value < 0.05 → отвергаем нулевую гипотезу (H₀).\n",
        "\n",
        "Статистически значимые различия в дистанциях между Economy и Comfort.\n",
        "\n",
        "Comfort используется для более длинных поездок, чем Economy."
      ]
    },
    {
      "cell_type": "markdown",
      "id": "5746d626-3012-47f9-ac5d-4c40640be143",
      "metadata": {
        "id": "5746d626-3012-47f9-ac5d-4c40640be143"
      },
      "source": [
        "# 9 Задание"
      ]
    },
    {
      "cell_type": "code",
      "execution_count": null,
      "id": "c61356bf-ed37-49e3-b9b2-bc5863deaf38",
      "metadata": {
        "id": "c61356bf-ed37-49e3-b9b2-bc5863deaf38"
      },
      "outputs": [],
      "source": [
        "mean_economy = economy.mean()\n",
        "mean_comfort = comfort.mean()\n",
        "\n",
        "print(f\"Средняя дистанция Эконом: {mean_economy:.2f} км\")\n",
        "print(f\"Средняя дистанция Комфорт: {mean_comfort:.2f} км\")\n",
        "\n",
        "if mean_comfort > mean_economy:\n",
        "    print(\"\\nВывод: Комфорт предпочитают для более дальних поездок.\")\n",
        "else:\n",
        "    print(\"\\nВывод: Эконом предпочитают для более дальних поездок.\")"
      ]
    },
    {
      "cell_type": "markdown",
      "id": "5c716965-95e7-4917-846c-22e0d097ed68",
      "metadata": {
        "id": "5c716965-95e7-4917-846c-22e0d097ed68"
      },
      "source": [
        "# 11 Задание"
      ]
    },
    {
      "cell_type": "code",
      "execution_count": null,
      "id": "8447a3bc-965a-4971-879c-e0189bef61c2",
      "metadata": {
        "id": "8447a3bc-965a-4971-879c-e0189bef61c2"
      },
      "outputs": [],
      "source": [
        "df_covid = pd.read_csv('drive/MyDrive/lab/dip_hw_covid.csv')\n",
        "df_covid.head(10)"
      ]
    },
    {
      "cell_type": "markdown",
      "id": "0c007555-3961-46b1-a2e1-07639a244bf4",
      "metadata": {
        "id": "0c007555-3961-46b1-a2e1-07639a244bf4"
      },
      "source": [
        "# 12 Задание"
      ]
    },
    {
      "cell_type": "code",
      "execution_count": null,
      "id": "a7fc24b6-94ca-4a77-b905-dab4bf375eb2",
      "metadata": {
        "id": "a7fc24b6-94ca-4a77-b905-dab4bf375eb2"
      },
      "outputs": [],
      "source": [
        "import matplotlib.dates as mdates\n",
        "\n",
        "correlation = df_covid[['confirmed', 'deaths']].corr().iloc[0,1]\n",
        "\n",
        "# Преобразуем строки с датами в datetime объекты\n",
        "df_covid['date'] = pd.to_datetime(df_covid['date'])\n",
        "\n",
        "# Теперь фильтруем данные по странам\n",
        "russia = df_covid[df_covid['country'] == 'Russia']\n",
        "us = df_covid[df_covid['country'] == 'US']\n",
        "\n",
        "# Создаем графики с правильными датами\n",
        "plt.figure(figsize=(14, 6))\n",
        "\n",
        "# График для России\n",
        "plt.subplot(1, 2, 1)\n",
        "plt.plot(russia['date'], russia['confirmed'], label='Заболеваемость')\n",
        "plt.plot(russia['date'], russia['deaths'], label='Смертность')\n",
        "plt.title('Динамика COVID-19 в России')\n",
        "plt.xlabel('Дата')\n",
        "plt.ylabel('Количество случаев')\n",
        "\n",
        "# Настраиваем отображение дат\n",
        "ax = plt.gca()\n",
        "ax.xaxis.set_major_locator(mdates.MonthLocator(interval=2))  # деления каждые 2 месяца\n",
        "ax.xaxis.set_major_formatter(mdates.DateFormatter('%b %Y'))  # формат \"Мес Год\"\n",
        "plt.xticks(rotation=45)\n",
        "plt.legend()\n",
        "\n",
        "# График для США\n",
        "plt.subplot(1, 2, 2)\n",
        "plt.plot(us['date'], us['confirmed'], label='Заболеваемость')\n",
        "plt.plot(us['date'], us['deaths'], label='Смертность')\n",
        "plt.title('Динамика COVID-19 в США')\n",
        "plt.xlabel('Дата')\n",
        "plt.ylabel('Количество случаев')\n",
        "\n",
        "# Аналогичное форматирование для второго графика\n",
        "ax = plt.gca()\n",
        "ax.xaxis.set_major_locator(mdates.MonthLocator(interval=2))\n",
        "ax.xaxis.set_major_formatter(mdates.DateFormatter('%b %Y'))\n",
        "plt.xticks(rotation=45)\n",
        "plt.legend()\n",
        "\n",
        "plt.tight_layout()\n",
        "plt.show()\n",
        "\n",
        "print(f\"Коэффициент корреляции между заболеваемостью и смертностью: {correlation:.3f}\")"
      ]
    },
    {
      "cell_type": "markdown",
      "id": "dcb3f23d-ce81-49fc-94f5-ab27061a5f43",
      "metadata": {
        "id": "dcb3f23d-ce81-49fc-94f5-ab27061a5f43"
      },
      "source": [
        "# 13 Задание"
      ]
    },
    {
      "cell_type": "code",
      "execution_count": null,
      "id": "838bacb5-0043-471e-8719-7012e1b39842",
      "metadata": {
        "id": "838bacb5-0043-471e-8719-7012e1b39842"
      },
      "outputs": [],
      "source": [
        "from sklearn.linear_model import LinearRegression\n",
        "\n",
        "X_train = russia[['confirmed']]\n",
        "y_train = russia['deaths']\n",
        "\n",
        "# Обучение модели\n",
        "model = LinearRegression()\n",
        "model.fit(X_train, y_train)\n",
        "\n",
        "new_case = pd.DataFrame({'confirmed': [25000000]})\n",
        "prediction = model.predict(new_case)\n",
        "\n",
        "print(f\"Прогнозируемое количество смертей при 25 млн заражений: {prediction[0]:.0f} смертей\")"
      ]
    },
    {
      "cell_type": "markdown",
      "id": "8091c74e-b81a-4d67-8f2b-9692c251897c",
      "metadata": {
        "id": "8091c74e-b81a-4d67-8f2b-9692c251897c"
      },
      "source": [
        "# 15 Задание"
      ]
    },
    {
      "cell_type": "code",
      "execution_count": null,
      "id": "ed5b98db-9dc6-436d-95d7-9a6e09562a19",
      "metadata": {
        "id": "ed5b98db-9dc6-436d-95d7-9a6e09562a19"
      },
      "outputs": [],
      "source": [
        "from sklearn.metrics.pairwise import cosine_similarity\n",
        "\n",
        "data = pd.read_csv('drive/MyDrive/lab/dip_db_check_taxi.csv')\n",
        "\n",
        "duplicates = data[data.duplicated(keep=False)]\n",
        "print(f\"Найдено {len(duplicates)} полных дубликатов записей\")\n",
        "\n",
        "order_id_duplicates = data[data['order_gk'].duplicated(keep=False)]\n",
        "print(f\"Найдено {len(order_id_duplicates)} записей с повторяющимися ID заказов\")\n",
        "\n",
        "numeric_cols = ['weekday_key', 'hour_key', 'distance_km', 'offer_class_group']\n",
        "data_normalized = (data[numeric_cols] - data[numeric_cols].mean()) / data[numeric_cols].std()\n",
        "\n",
        "similarity_matrix = cosine_similarity(data_normalized)\n",
        "\n",
        "high_similarity_pairs = []\n",
        "for i in range(len(similarity_matrix)):\n",
        "    for j in range(i+1, len(similarity_matrix)):\n",
        "        if similarity_matrix[i,j] > 0.95:\n",
        "            high_similarity_pairs.append((i, j, similarity_matrix[i,j]))\n",
        "\n",
        "print(f\"Найдено {len(high_similarity_pairs)} пар записей с высокой степенью сходства (>0.95)\")\n",
        "\n",
        "if len(high_similarity_pairs) > 0:\n",
        "    print(\"\\nПример похожих записей:\")\n",
        "    idx1, idx2, similarity = high_similarity_pairs[0]\n",
        "    print(\"Запись 1:\")\n",
        "    print(data.iloc[idx1])\n",
        "    print(\"\\nЗапись 2:\")\n",
        "    print(data.iloc[idx2])\n",
        "    print(f\"\\nСтепень сходства: {similarity:.4f}\")"
      ]
    }
  ],
  "metadata": {
    "kernelspec": {
      "display_name": "Python 3 (ipykernel)",
      "language": "python",
      "name": "python3"
    },
    "language_info": {
      "codemirror_mode": {
        "name": "ipython",
        "version": 3
      },
      "file_extension": ".py",
      "mimetype": "text/x-python",
      "name": "python",
      "nbconvert_exporter": "python",
      "pygments_lexer": "ipython3",
      "version": "3.11.4"
    },
    "colab": {
      "provenance": [],
      "include_colab_link": true
    }
  },
  "nbformat": 4,
  "nbformat_minor": 5
}